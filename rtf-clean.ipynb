{
 "cells": [
  {
   "cell_type": "markdown",
   "metadata": {},
   "source": [
    "# Nexis-Uni Article Cleaning \n",
    "### this notebook takes in txt files of downloaded corpora and cleans them for taggings such as copyright, length, author, etc. \n",
    "@Sophie Hwang"
   ]
  },
  {
   "cell_type": "code",
   "execution_count": 1,
   "metadata": {},
   "outputs": [
    {
     "data": {
      "text/plain": [
       "['1990s.txt', '2000s.txt', '2010s.txt', 'early-1980s.txt', 'late-1980s.txt']"
      ]
     },
     "execution_count": 1,
     "metadata": {},
     "output_type": "execute_result"
    }
   ],
   "source": [
    "import os \n",
    "\n",
    "files = os.listdir(\"data-files\")\n",
    "files"
   ]
  },
  {
   "cell_type": "code",
   "execution_count": 2,
   "metadata": {},
   "outputs": [],
   "source": [
    "import re\n",
    "\n",
    "def clean_text_between_markers(text, start_marker, end_marker):\n",
    "    pattern = re.compile(r'{}(.*?){}'.format(re.escape(start_marker), re.escape(end_marker)), re.DOTALL)\n",
    "    return pattern.findall(text)\n",
    "\n",
    "# Clean text between \"Body\" and \"Load-Date\"\n",
    "#cleaned_texts = clean_text_between_markers(file_content, \"Body\", \"Load-Date\")\n"
   ]
  },
  {
   "cell_type": "code",
   "execution_count": 9,
   "metadata": {},
   "outputs": [],
   "source": [
    "for file in files:\n",
    "    with open(f'data-files/{file}', errors=\"ignore\") as rfile:\n",
    "        file_content = rfile.read()\n",
    "\n",
    "    # Compile all cleaned texts\n",
    "    cleaned_text = '\\n'.join(clean_text_between_markers(file_content, \"Body\", \"Load-Date\"))\n",
    "\n",
    "    with open(f'cleaned_{file}', \"w\") as wfile:\n",
    "        wfile.write(cleaned_text)\n",
    "    "
   ]
  }
 ],
 "metadata": {
  "kernelspec": {
   "display_name": "Python 3",
   "language": "python",
   "name": "python3"
  },
  "language_info": {
   "codemirror_mode": {
    "name": "ipython",
    "version": 3
   },
   "file_extension": ".py",
   "mimetype": "text/x-python",
   "name": "python",
   "nbconvert_exporter": "python",
   "pygments_lexer": "ipython3",
   "version": "3.12.2"
  }
 },
 "nbformat": 4,
 "nbformat_minor": 2
}
